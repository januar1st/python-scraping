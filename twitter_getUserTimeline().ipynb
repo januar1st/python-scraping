{
 "cells": [
  {
   "cell_type": "markdown",
   "metadata": {},
   "source": [
    "#### 우선 먼저 twitter API부터 발급 받고 시작\n",
    "- twitter 데이터를 스크래핑할 수 있는 다양한 패키지들이 많으므로 끌리는 것을 사용하면 될 듯 하다."
   ]
  },
  {
   "cell_type": "code",
   "execution_count": 1,
   "metadata": {},
   "outputs": [],
   "source": [
    "import twitter     # pip install twitter"
   ]
  },
  {
   "cell_type": "code",
   "execution_count": 2,
   "metadata": {},
   "outputs": [],
   "source": [
    "twitter_consumer_key = \"-\"\n",
    "twitter_consumer_secret = \"-\"  \n",
    "twitter_access_token = \"-\"\n",
    "twitter_access_secret = \"-\""
   ]
  },
  {
   "cell_type": "code",
   "execution_count": 3,
   "metadata": {},
   "outputs": [],
   "source": [
    "twitter_api = twitter.Api(consumer_key=twitter_consumer_key,\n",
    "                          consumer_secret=twitter_consumer_secret, \n",
    "                          access_token_key=twitter_access_token, \n",
    "                          access_token_secret=twitter_access_secret)"
   ]
  },
  {
   "cell_type": "code",
   "execution_count": null,
   "metadata": {},
   "outputs": [],
   "source": [
    "# API가 잘 연결됐는지 확인 : 내 계정에 대한 정보 출력\n",
    "print(twitter_api.VerifyCredentials())"
   ]
  },
  {
   "cell_type": "markdown",
   "metadata": {},
   "source": [
    "#### GetUserTimeline() :\n",
    "https://developer.twitter.com/en/docs/twitter-api/v1/tweets/timelines/api-reference/get-statuses-user_timeline"
   ]
  },
  {
   "cell_type": "raw",
   "metadata": {},
   "source": [
    "# 사용한 Parameters값\n",
    "screen_name : 내가 스크래핑하고자 하는 계정의 아이디\n",
    "since_id, max_id : 각 트위터마다 고유의 id값이 있는데 그걸 범위로 삼는 거라고 해석했음\n",
    "count : 추출하는 트위터의 갯수(한번에 최대 200개)\n",
    "trim_user : 해당 계정의 트위터만 포함하는지(False, True)\n",
    "exclude_replies : 답 멘션을 제외하는지(False, True)\n",
    "include_rts : 리트윗을 포함하는지(False, True)"
   ]
  },
  {
   "cell_type": "code",
   "execution_count": 8,
   "metadata": {},
   "outputs": [],
   "source": [
    "# 그래서 일단 기본 세팅은 이렇게\n",
    "account = \"@moonriver365\"\n",
    "statuses = twitter_api.GetUserTimeline(screen_name = account, \n",
    "                                       count = 5, include_rts = False, exclude_replies = True, trim_user = True)"
   ]
  },
  {
   "cell_type": "code",
   "execution_count": 35,
   "metadata": {},
   "outputs": [
    {
     "name": "stdout",
     "output_type": "stream",
     "text": [
      "[Status(ID=1315575174964469760, ScreenName=None, Created=Mon Oct 12 08:48:58 +0000 2020, Text='이번의 방역완화 조치는 \\n우리가 코로나를 방역의 통제 속에 \\n둘 수 있다는 자신감에 근거한 것입니다.\\n\\n전 세계적인 코로나 위기 속에서 \\n우리는 방역과 경제 모두에서 \\n강한 면모를 보여주며 \\n‘위기에 강한… https://t.co/BydeIT6vdU'), Status(ID=1314725774545494016, ScreenName=None, Created=Sat Oct 10 00:33:45 +0000 2020, Text='https://t.co/RZx3aI1PSN')]\n",
      "statuses[0].id :  1315575174964469760\n",
      "statuses[0].text : \n",
      " 이번의 방역완화 조치는 \n",
      "우리가 코로나를 방역의 통제 속에 \n",
      "둘 수 있다는 자신감에 근거한 것입니다.\n",
      "\n",
      "전 세계적인 코로나 위기 속에서 \n",
      "우리는 방역과 경제 모두에서 \n",
      "강한 면모를 보여주며 \n",
      "‘위기에 강한… https://t.co/BydeIT6vdU\n",
      "statuses[0].created_at :  Mon Oct 12 08:48:58 +0000 2020\n"
     ]
    }
   ],
   "source": [
    "print(statuses)   # 하지만 이 방법을 쓰면 조금 긴 text의 끝이 ...로 찍히는 문제점이 발생\n",
    "print(\"statuses[0].id : \", statuses[0].id)\n",
    "print(\"statuses[0].text : \\n\", statuses[0].text)\n",
    "print(\"statuses[0].created_at : \", statuses[0].created_at)"
   ]
  },
  {
   "cell_type": "markdown",
   "metadata": {},
   "source": [
    "#### 잘리는 text 없이  API를 호출할 때 ID와 TOKEN 입력하는 란에 tweet_mode='extended' 추가\n",
    "- 주의 사항 : tweet_mode='extended'를 추가해서 스크래핑 했을 때는 text가 아닌 full_text라고 적어야 text가 추출된다."
   ]
  },
  {
   "cell_type": "code",
   "execution_count": 30,
   "metadata": {},
   "outputs": [
    {
     "data": {
      "text/plain": [
       "'이번의 방역완화 조치는 \\n우리가 코로나를 방역의 통제 속에 \\n둘 수 있다는 자신감에 근거한 것입니다.\\n\\n전 세계적인 코로나 위기 속에서 \\n우리는 방역과 경제 모두에서 \\n강한 면모를 보여주며 \\n‘위기에 강한 나라, 대한민국’으로 \\n국가적 위상이 높아지고 있습니다. \\n모두가 국민 덕분입니다. https://t.co/HNwRIjijcv'"
      ]
     },
     "execution_count": 30,
     "metadata": {},
     "output_type": "execute_result"
    }
   ],
   "source": [
    "twitter_api = twitter.Api(consumer_key=twitter_consumer_key,\n",
    "                          consumer_secret=twitter_consumer_secret, \n",
    "                          access_token_key=twitter_access_token, \n",
    "                          access_token_secret=twitter_access_secret, \n",
    "                         tweet_mode='extended' )\n",
    "\n",
    "twitter_api.GetUserTimeline(screen_name = account, \n",
    "                                   count = 5, include_rts = False, exclude_replies = True, trim_user = True)[0].full_text"
   ]
  },
  {
   "cell_type": "markdown",
   "metadata": {},
   "source": [
    "#### 한 번에 추출할 수 있는 트위터의 갯수가 200개였으므로 \n",
    "#### since_id와 max_id를 사용해서 모든 트위터가 추출될 수 있게끔 반복문을 돌리려고 함\n",
    "#### 참고 : https://gist.github.com/freimanas/39f3ad9a5f0249c0dc64"
   ]
  },
  {
   "cell_type": "code",
   "execution_count": null,
   "metadata": {},
   "outputs": [],
   "source": [
    "import pandas as pd"
   ]
  },
  {
   "cell_type": "code",
   "execution_count": null,
   "metadata": {},
   "outputs": [],
   "source": [
    "def get_all_tweets(screen_name):\n",
    "    global df  \n",
    "    \n",
    "    twitter_api = twitter.Api(consumer_key=twitter_consumer_key,\n",
    "                      consumer_secret=twitter_consumer_secret, \n",
    "                      access_token_key=twitter_access_token, \n",
    "                      access_token_secret=twitter_access_secret, \n",
    "                     tweet_mode='extended')     # full_text가 안 보이는 부분은 여기 수정\n",
    "\n",
    "    alltweets = []\n",
    "\n",
    "    new_tweets = twitter_api.GetUserTimeline(screen_name = screen_name, count = 1,\n",
    "                                            include_rts = False, exclude_replies = True, trim_user = True)  # 이런 옵션값은 재량으로 선택하면 됨\n",
    "\n",
    "    alltweets.extend(new_tweets)\n",
    "\n",
    "    oldest = alltweets[-1].id - 1\n",
    "\n",
    "    while len(new_tweets) > 0:\n",
    "            print(\"getting tweets before %s\" % (oldest))\n",
    "\n",
    "            new_tweets = twitter_api.GetUserTimeline(screen_name = screen_name, count = 200, \n",
    "                                                     max_id = oldest,\n",
    "                                                    include_rts = False, exclude_replies = True, trim_user = True)  # 이런 옵션값은 재량으로 선택하면 됨\n",
    "\n",
    "            alltweets.extend(new_tweets)\n",
    "\n",
    "            oldest = alltweets[-1].id - 1\n",
    "\n",
    "            print(\"...%s tweets downloaded so far\" % (len(alltweets)))\n",
    "\n",
    "    outtweets = []\n",
    "    for tweet in alltweets:\n",
    "        outtweets.append([tweet.id_str, tweet.created_at, tweet.full_text])\n",
    "\n",
    "    df = pd.DataFrame(outtweets)\n",
    "    return df"
   ]
  },
  {
   "cell_type": "code",
   "execution_count": null,
   "metadata": {},
   "outputs": [],
   "source": [
    "# 여러 옵션값으로 돌려본 결과 해당 계정이 보낸 모든 멘션을 스크래핑 하고 싶다면 exclude_replies = False를 선택해야 한다.\n",
    "# A라는 계정이 B라는 트위터를 올리고 B라는 트위터에 답 멘션으로 B'라는 트위터를 남겼을 때 \n",
    "# exclude_replies = True를 선택하면 B'의 내용은 스크래핑 되지 않았다.\n",
    "# A가 다른 사람한테 보낸 답 멘션을 거르고 싶다면 우선 False 값으로 추출한 후\n",
    "# text의 시작이 @로 되어있는 경우를 제외하면 된다.\n",
    "# 본인 트위터에 답 멘션을 단 경우에는 @가 붙어있지 않았다."
   ]
  },
  {
   "cell_type": "markdown",
   "metadata": {},
   "source": [
    "### 트위터를 올린 날짜와 내용만 수집하고 싶다면 getUserTimeline()을 사용하는 것이 편한 듯 하다.\n",
    "#### 하지만 getUserTimeline()을 이용해서는 media에 대한 정보를 수집할 수가 없었기 때문에 다른 방법을 찾아보고자 함."
   ]
  }
 ],
 "metadata": {
  "kernelspec": {
   "display_name": "Python 3",
   "language": "python",
   "name": "python3"
  },
  "language_info": {
   "codemirror_mode": {
    "name": "ipython",
    "version": 3
   },
   "file_extension": ".py",
   "mimetype": "text/x-python",
   "name": "python",
   "nbconvert_exporter": "python",
   "pygments_lexer": "ipython3",
   "version": "3.7.3"
  }
 },
 "nbformat": 4,
 "nbformat_minor": 2
}
