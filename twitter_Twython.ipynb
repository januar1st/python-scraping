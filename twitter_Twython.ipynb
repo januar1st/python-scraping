{
 "cells": [
  {
   "cell_type": "markdown",
   "metadata": {},
   "source": [
    "#### 멀티미디어 저장을 위해 json 파일 전체를 받아오는 방법을 사용하기로 함\n",
    "- 참고 : https://stackabuse.com/accessing-the-twitter-api-with-python/"
   ]
  },
  {
   "cell_type": "code",
   "execution_count": 1,
   "metadata": {},
   "outputs": [],
   "source": [
    "from twython import Twython              # pip install twython\n",
    "import json\n",
    "import pandas as pd"
   ]
  },
  {
   "cell_type": "code",
   "execution_count": 2,
   "metadata": {},
   "outputs": [],
   "source": [
    "credentials = {}\n",
    "credentials['CONSUMER_KEY'] = \"-\"\n",
    "credentials['CONSUMER_SECRET'] = \"-\"  \n",
    "credentials['ACCESS_TOKEN'] = \"-\"\n",
    "credentials['ACCESS_SECRET'] = \"-\"\n",
    "\n",
    "# Save the credentials object to file\n",
    "with open(\"twitter_credentials.json\", \"w\") as file:\n",
    "    json.dump(credentials, file)"
   ]
  },
  {
   "cell_type": "code",
   "execution_count": 3,
   "metadata": {},
   "outputs": [],
   "source": [
    "# Load credentials from json file\n",
    "with open(\"twitter_credentials.json\", \"r\") as file:\n",
    "    creds = json.load(file)\n",
    "\n",
    "# Instantiate an object\n",
    "python_tweets = Twython(creds['CONSUMER_KEY'], creds['CONSUMER_SECRET'])\n",
    "\n",
    "# Create our query : 각자 원하는 옵션값 사용하면 됨.\n",
    "query = {'screen_name': 'moonriver365',\n",
    "        'count': '10',\n",
    "         'tweet_mode' : 'extended',    # 이거 안하면 full_text가 안나옴\n",
    "         'includ_rts' : 'False',\n",
    "         'exclude_replies' : 'True',\n",
    "         'trim_user' : 'True'\n",
    "        }\n",
    "\n",
    "# 추후에 query에 max_id를 추가하고자 할 때  : query.update({'max_id' : '원하는 값'})"
   ]
  },
  {
   "cell_type": "markdown",
   "metadata": {},
   "source": [
    "#### getUserTimeline()때와는 달리 모든 정보가 담겨있는 것을 확인할 수 있다."
   ]
  },
  {
   "cell_type": "code",
   "execution_count": 4,
   "metadata": {},
   "outputs": [
    {
     "data": {
      "text/plain": [
       "{'created_at': 'Mon Oct 12 08:48:58 +0000 2020',\n",
       " 'id': 1315575174964469760,\n",
       " 'id_str': '1315575174964469760',\n",
       " 'full_text': '이번의 방역완화 조치는 \\n우리가 코로나를 방역의 통제 속에 \\n둘 수 있다는 자신감에 근거한 것입니다.\\n\\n전 세계적인 코로나 위기 속에서 \\n우리는 방역과 경제 모두에서 \\n강한 면모를 보여주며 \\n‘위기에 강한 나라, 대한민국’으로 \\n국가적 위상이 높아지고 있습니다. \\n모두가 국민 덕분입니다. https://t.co/HNwRIjijcv',\n",
       " 'truncated': False,\n",
       " 'display_text_range': [0, 161],\n",
       " 'entities': {'hashtags': [],\n",
       "  'symbols': [],\n",
       "  'user_mentions': [],\n",
       "  'urls': [],\n",
       "  'media': [{'id': 1315574506572767232,\n",
       "    'id_str': '1315574506572767232',\n",
       "    'indices': [162, 185],\n",
       "    'media_url': 'http://pbs.twimg.com/media/EkHcCyPUYAAtMt6.jpg',\n",
       "    'media_url_https': 'https://pbs.twimg.com/media/EkHcCyPUYAAtMt6.jpg',\n",
       "    'url': 'https://t.co/HNwRIjijcv',\n",
       "    'display_url': 'pic.twitter.com/HNwRIjijcv',\n",
       "    'expanded_url': 'https://twitter.com/moonriver365/status/1315575174964469760/photo/1',\n",
       "    'type': 'photo',\n",
       "    'sizes': {'thumb': {'w': 150, 'h': 150, 'resize': 'crop'},\n",
       "     'small': {'w': 680, 'h': 453, 'resize': 'fit'},\n",
       "     'medium': {'w': 1200, 'h': 800, 'resize': 'fit'},\n",
       "     'large': {'w': 1575, 'h': 1050, 'resize': 'fit'}}}]},\n",
       " 'extended_entities': {'media': [{'id': 1315574506572767232,\n",
       "    'id_str': '1315574506572767232',\n",
       "    'indices': [162, 185],\n",
       "    'media_url': 'http://pbs.twimg.com/media/EkHcCyPUYAAtMt6.jpg',\n",
       "    'media_url_https': 'https://pbs.twimg.com/media/EkHcCyPUYAAtMt6.jpg',\n",
       "    'url': 'https://t.co/HNwRIjijcv',\n",
       "    'display_url': 'pic.twitter.com/HNwRIjijcv',\n",
       "    'expanded_url': 'https://twitter.com/moonriver365/status/1315575174964469760/photo/1',\n",
       "    'type': 'photo',\n",
       "    'sizes': {'thumb': {'w': 150, 'h': 150, 'resize': 'crop'},\n",
       "     'small': {'w': 680, 'h': 453, 'resize': 'fit'},\n",
       "     'medium': {'w': 1200, 'h': 800, 'resize': 'fit'},\n",
       "     'large': {'w': 1575, 'h': 1050, 'resize': 'fit'}}}]},\n",
       " 'source': '<a href=\"https://mobile.twitter.com\" rel=\"nofollow\">Twitter Web App</a>',\n",
       " 'in_reply_to_status_id': None,\n",
       " 'in_reply_to_status_id_str': None,\n",
       " 'in_reply_to_user_id': None,\n",
       " 'in_reply_to_user_id_str': None,\n",
       " 'in_reply_to_screen_name': None,\n",
       " 'user': {'id': 444465942, 'id_str': '444465942'},\n",
       " 'geo': None,\n",
       " 'coordinates': None,\n",
       " 'place': None,\n",
       " 'contributors': None,\n",
       " 'is_quote_status': False,\n",
       " 'retweet_count': 1170,\n",
       " 'favorite_count': 1967,\n",
       " 'favorited': False,\n",
       " 'retweeted': False,\n",
       " 'possibly_sensitive': False,\n",
       " 'lang': 'ko'}"
      ]
     },
     "execution_count": 4,
     "metadata": {},
     "output_type": "execute_result"
    }
   ],
   "source": [
    "python_tweets.get_user_timeline(**query)[0]"
   ]
  },
  {
   "cell_type": "code",
   "execution_count": 9,
   "metadata": {},
   "outputs": [
    {
     "data": {
      "text/plain": [
       "{'media': [{'id': 1315574506572767232,\n",
       "   'id_str': '1315574506572767232',\n",
       "   'indices': [162, 185],\n",
       "   'media_url': 'http://pbs.twimg.com/media/EkHcCyPUYAAtMt6.jpg',\n",
       "   'media_url_https': 'https://pbs.twimg.com/media/EkHcCyPUYAAtMt6.jpg',\n",
       "   'url': 'https://t.co/HNwRIjijcv',\n",
       "   'display_url': 'pic.twitter.com/HNwRIjijcv',\n",
       "   'expanded_url': 'https://twitter.com/moonriver365/status/1315575174964469760/photo/1',\n",
       "   'type': 'photo',\n",
       "   'sizes': {'thumb': {'w': 150, 'h': 150, 'resize': 'crop'},\n",
       "    'small': {'w': 680, 'h': 453, 'resize': 'fit'},\n",
       "    'medium': {'w': 1200, 'h': 800, 'resize': 'fit'},\n",
       "    'large': {'w': 1575, 'h': 1050, 'resize': 'fit'}}}]}"
      ]
     },
     "execution_count": 9,
     "metadata": {},
     "output_type": "execute_result"
    }
   ],
   "source": [
    "# 멀티미디어 정보를 추출하고 싶다면\n",
    "python_tweets.get_user_timeline(**query)[0]['extended_entities']"
   ]
  },
  {
   "cell_type": "markdown",
   "metadata": {},
   "source": [
    "#### 우선 내가 사용한 방법\n",
    "1. 모든 json파일을 List에 저장하고\n",
    "2. 그 List에서 내가 필요한 것을 media type에 따라 추출하는 코드 작성"
   ]
  },
  {
   "cell_type": "code",
   "execution_count": null,
   "metadata": {},
   "outputs": [],
   "source": [
    "def get_all_tweets():\n",
    "    global tweetLists\n",
    "    for status in python_tweets.get_user_timeline(**query):       \n",
    "        tweetLists.append(status)\n",
    "        print(status['id'])\n",
    "        while len(status) > 0 :\n",
    "            status = python_tweets.get_user_timeline(**query)[0]\n",
    "            oldest = status['id'] - 1\n",
    "            \n",
    "            # 다음 for문을 위해서 max_id 업데이트 : 매번 새 값으로 덮어씌워짐\n",
    "            query.update({'max_id' : oldest})\n",
    "            \n",
    "            tweetLists.append(status)\n",
    "            print(oldest)\n",
    "    return tweetLists"
   ]
  },
  {
   "cell_type": "markdown",
   "metadata": {},
   "source": [
    "#### 더 깔끔한 코드 작성을 해야겠지만 우선 남겨둔다."
   ]
  },
  {
   "cell_type": "code",
   "execution_count": null,
   "metadata": {},
   "outputs": [],
   "source": [
    "idLists = []\n",
    "dateLists = []\n",
    "textLists = []\n",
    "hashtagLists = []\n",
    "urlLists = []\n",
    "\n",
    "for tweet in tweetLists :\n",
    "    try :\n",
    "        # media type이 photo와 video가 있는데 상황에 따라 추출해야하는 url이 다르기 때문에 조건문 작성\n",
    "        if tweet['extended_entities']['media'][0]['type'] == 'photo' : \n",
    "            i = 0\n",
    "            # 사진의 경우 최대 4장까지 포함될 수 있으므로 모든 이미지 주소를 수집할 수 있도록\n",
    "            len_media = len(tweet['extended_entities']['media'])\n",
    "            while i < len_media:\n",
    "                url = tweet['extended_entities']['media'][i]['media_url']\n",
    "                i += 1\n",
    "                dateLists.append(tweet['created_at'])\n",
    "                idLists.append(tweet['id'])\n",
    "                textLists.append(tweet['full_text'])\n",
    "                urlLists.append(url)\n",
    "                \n",
    "                # 그리고 hashtag 정보가 있으면 이것 또한 수집하기로 함\n",
    "                if tweet['entities']['hashtags'] :\n",
    "                    hashtagLists.append(tweet['entities']['hashtags'][0]['text'])\n",
    "                else :\n",
    "                    hashtagLists.append(\"\")\n",
    "        else :\n",
    "            url = tweet['extended_entities']['media'][0]['video_info']['variants'][0]['url']\n",
    "            dateLists.append(tweet['created_at'])\n",
    "            idLists.append(tweet['id'])\n",
    "            textLists.append(tweet['full_text'])\n",
    "            urlLists.append(url)\n",
    "            \n",
    "            # 그리고 hashtag 정보가 있으면 이것 또한 수집하기로 함\n",
    "            if tweet['entities']['hashtags'] :\n",
    "                hashtagLists.append(tweet['entities']['hashtags'][0]['text'])\n",
    "            else :\n",
    "                hashtagLists.append(\"\")\n",
    "    \n",
    "    # 멀티미디어가 없는 트위터는 if 조건에 걸리는 tweet['extended_entities']가 없어서 오류가 발생하므로\n",
    "    # 예외문 작성해서 마찬가지로 List에 추가되도록 만듦\n",
    "    except KeyError : \n",
    "        dateLists.append(tweet['created_at'])\n",
    "        idLists.append(tweet['id'])\n",
    "        textLists.append(tweet['full_text'])\n",
    "        urlLists.append(\"\")\n",
    "        \n",
    "         # 그리고 hashtag 정보가 있으면 이것 또한 수집하기로 함\n",
    "        if tweet['entities']['hashtags'] :\n",
    "            hashtagLists.append(tweet['entities']['hashtags'][0]['text'])\n",
    "        else :\n",
    "            hashtagLists.append(\"\")"
   ]
  },
  {
   "cell_type": "markdown",
   "metadata": {},
   "source": [
    "##### 시간에 관한 함수 참고 : https://docs.python.org/ko/3/library/datetime.html"
   ]
  },
  {
   "cell_type": "code",
   "execution_count": 12,
   "metadata": {},
   "outputs": [],
   "source": [
    "import datetime"
   ]
  },
  {
   "cell_type": "code",
   "execution_count": 32,
   "metadata": {},
   "outputs": [
    {
     "data": {
      "text/plain": [
       "'2020-10-12-08-48'"
      ]
     },
     "execution_count": 32,
     "metadata": {},
     "output_type": "execute_result"
    }
   ],
   "source": [
    "# 날짜 포맷을 바꾸려고 함 : ''Mon Oct 12 08:48:58 +0000 2020'→ datetime.datetime(2020, 10, 12, 8, 48, 58)\n",
    "test_time = python_tweets.get_user_timeline(**query)[0]['created_at']\n",
    "test_time2 = datetime.datetime.strptime(test_time, \"%a %b %d %I:%M:%S +0000 %Y\")\n",
    "\n",
    "# 왜 이렇게 바꾸냐면 이미지 저장할 때 파일명으로 시간을 사용하고자 함\n",
    "test_time2.strftime(\"%Y-%m-%d-%H-%M\")"
   ]
  },
  {
   "cell_type": "code",
   "execution_count": null,
   "metadata": {},
   "outputs": [],
   "source": [
    "# 데이터 프레임을 만들었는데 너무 오랜만이라 방법이 생각이 안난다. 추후에 더 좋은 방법으로 수정할 것.\n",
    "df = pd.DataFrame([idLists, dateLists, textLists, hashtagLists, urlLists]).transpose()\n",
    "df.columns =  ['id', 'date', 'text', 'hashtag', 'media_url'];df.tail()"
   ]
  },
  {
   "cell_type": "code",
   "execution_count": null,
   "metadata": {},
   "outputs": [],
   "source": [
    "# 자잘한 정제 과정은 생략\n",
    "df.to_csv('파일명.csv', index = False, encoding = 'utf-8-sig') # text가 이상해서 encoding 추가"
   ]
  },
  {
   "cell_type": "markdown",
   "metadata": {},
   "source": [
    "#### 추출한 media_url을 이용해서 멀티미디어 저장하기\n",
    "- 참고 : https://towardsdatascience.com/automatic-collection-of-images-under-rickyrenuncia-in-twitter-a86adb7124cb"
   ]
  },
  {
   "cell_type": "code",
   "execution_count": null,
   "metadata": {},
   "outputs": [],
   "source": [
    "import os\n",
    "import urllib.request"
   ]
  },
  {
   "cell_type": "code",
   "execution_count": null,
   "metadata": {},
   "outputs": [],
   "source": [
    "folder_name = \"img_backup\"\n",
    "errorLists = []\n",
    "\n",
    "for tweet in df.itertuples() :\n",
    "    try : \n",
    "        tag = tweet[4]\n",
    "        iid = tweet[1]\n",
    "        time = tweet[2]\n",
    "        \n",
    "        # 만약 media_url이 있다면 저장할 것\n",
    "        if tweet[5] : \n",
    "            file_name = str(time)  + \"_\" + str(iid) + \"_\" + tag\n",
    "            url = tweet[5]\n",
    "            \n",
    "            # .jpg와 .mp4에 따라서 \n",
    "            file_type = os.path.splitext(url)[::-1][0].split(\"?\")[0]\n",
    "            urllib.request.urlretrieve(url, os.path.join(folder_name, file_name + file_type))\n",
    "    except :\n",
    "        errorLists.append([iid, tag, time, tweet[5]])\n",
    "        pass"
   ]
  }
 ],
 "metadata": {
  "kernelspec": {
   "display_name": "Python 3",
   "language": "python",
   "name": "python3"
  },
  "language_info": {
   "codemirror_mode": {
    "name": "ipython",
    "version": 3
   },
   "file_extension": ".py",
   "mimetype": "text/x-python",
   "name": "python",
   "nbconvert_exporter": "python",
   "pygments_lexer": "ipython3",
   "version": "3.7.3"
  }
 },
 "nbformat": 4,
 "nbformat_minor": 2
}
